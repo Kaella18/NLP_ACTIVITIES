{
 "cells": [
  {
   "cell_type": "code",
   "execution_count": 1,
   "id": "5d13a030",
   "metadata": {},
   "outputs": [
    {
     "ename": "ModuleNotFoundError",
     "evalue": "No module named 'flask'",
     "output_type": "error",
     "traceback": [
      "\u001b[1;31m---------------------------------------------------------------------------\u001b[0m",
      "\u001b[1;31mModuleNotFoundError\u001b[0m                       Traceback (most recent call last)",
      "\u001b[1;32m~\\AppData\\Local\\Temp/ipykernel_7068/3179312319.py\u001b[0m in \u001b[0;36m<module>\u001b[1;34m\u001b[0m\n\u001b[1;32m----> 1\u001b[1;33m \u001b[1;32mfrom\u001b[0m \u001b[0mflask\u001b[0m \u001b[1;32mimport\u001b[0m \u001b[0mFlask\u001b[0m\u001b[1;33m,\u001b[0m \u001b[0mrender_template\u001b[0m\u001b[1;33m,\u001b[0m \u001b[0mrequest\u001b[0m\u001b[1;33m\u001b[0m\u001b[1;33m\u001b[0m\u001b[0m\n\u001b[0m\u001b[0;32m      2\u001b[0m \u001b[1;32mimport\u001b[0m \u001b[0mnltk\u001b[0m\u001b[1;33m\u001b[0m\u001b[1;33m\u001b[0m\u001b[0m\n\u001b[0;32m      3\u001b[0m \u001b[1;32mimport\u001b[0m \u001b[0mos\u001b[0m\u001b[1;33m\u001b[0m\u001b[1;33m\u001b[0m\u001b[0m\n\u001b[0;32m      4\u001b[0m \u001b[1;32mimport\u001b[0m \u001b[0mre\u001b[0m\u001b[1;33m\u001b[0m\u001b[1;33m\u001b[0m\u001b[0m\n\u001b[0;32m      5\u001b[0m \u001b[1;32mfrom\u001b[0m \u001b[0mnltk\u001b[0m\u001b[1;33m.\u001b[0m\u001b[0mcorpus\u001b[0m \u001b[1;32mimport\u001b[0m \u001b[0mshakespeare\u001b[0m\u001b[1;33m,\u001b[0m \u001b[0mstopwords\u001b[0m\u001b[1;33m\u001b[0m\u001b[1;33m\u001b[0m\u001b[0m\n",
      "\u001b[1;31mModuleNotFoundError\u001b[0m: No module named 'flask'"
     ]
    }
   ],
   "source": [
    "from flask import Flask, render_template, request\n",
    "import nltk\n",
    "import os\n",
    "import re\n",
    "from nltk.corpus import shakespeare, stopwords\n",
    "from nltk.probability import FreqDist\n",
    "from nltk.util import bigrams, trigrams, ngrams\n",
    "\n",
    "app = Flask(__name__)\n",
    "\n",
    "if __name__ == '__main__':\n",
    "    app.debug = True\n",
    "    app.run()\n",
    "\n",
    "def get_trigram_freq(tokens):\n",
    "    tgs = list(nltk.trigrams(tokens))\n",
    "    a,b,c = list(zip(*tgs))\n",
    "    bgs = list(zip(a,b))\n",
    "    \n",
    "    return nltk.ConditionalFreqDist(list(zip(bgs, c)))\n",
    "\n",
    "def get_bigram_freq(tokens):\n",
    "    bgs = list(nltk.bigrams(tokens))\n",
    "\n",
    "    return nltk.ConditionalFreqDist(bgs)\n",
    "\n",
    "shakespeare.fileids()\n",
    "tokens = shakespeare.words('hamlet.xml') + shakespeare.words('dream.xml') + shakespeare.words('r_and_j.xml')\n",
    "\n",
    "punctuation = re.compile(r\"[-.?!',:;()|0-9]\")\n",
    "stopwords.words('english')\n",
    "post_punctuation = []\n",
    "for words in tokens:\n",
    "    word = punctuation.sub(\"\", words)\n",
    "    if len(word) > 0:\n",
    "        post_punctuation.append(word)\n",
    "\n",
    "NLPDoc_tokens = []\n",
    "for word in post_punctuation:\n",
    "    if word not in stopwords.words('english'):\n",
    "        NLPDoc_tokens.append(word)\n",
    "for i in range(len(NLPDoc_tokens)):\n",
    "    NLPDoc_tokens[i] = NLPDoc_tokens[i].lower()\n",
    "\n",
    "bgs_freq = get_bigram_freq(NLPDoc_tokens)\n",
    "tgs_freq = get_trigram_freq(NLPDoc_tokens)\n",
    "\n",
    "@app.route('/')\n",
    "def index():\n",
    "    return render_template(\"index.html\")\n",
    "\n",
    "\n",
    "@app.route('/', methods=[\"POST\"])\n",
    "def result():\n",
    "    text = str(request.form[\"text\"])\n",
    "    text.lower()\n",
    "    words = text.split()\n",
    "    n = len(words)\n",
    "    if n==1:\n",
    "        result = bgs_freq[(text)].most_common(5)\n",
    "    if n>1:\n",
    "        result = tgs_freq[(words[n-2],words[n-1])].most_common(10)\n",
    "    \n",
    "    return render_template(\"index.html\", result=result)\n"
   ]
  },
  {
   "cell_type": "code",
   "execution_count": null,
   "id": "4b498002",
   "metadata": {},
   "outputs": [],
   "source": []
  },
  {
   "cell_type": "code",
   "execution_count": null,
   "id": "7e03ba6d",
   "metadata": {},
   "outputs": [],
   "source": []
  }
 ],
 "metadata": {
  "kernelspec": {
   "display_name": "Python 3 (ipykernel)",
   "language": "python",
   "name": "python3"
  },
  "language_info": {
   "codemirror_mode": {
    "name": "ipython",
    "version": 3
   },
   "file_extension": ".py",
   "mimetype": "text/x-python",
   "name": "python",
   "nbconvert_exporter": "python",
   "pygments_lexer": "ipython3",
   "version": "3.8.2"
  }
 },
 "nbformat": 4,
 "nbformat_minor": 5
}
