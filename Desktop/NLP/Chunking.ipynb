{
 "cells": [
  {
   "cell_type": "code",
   "execution_count": 3,
   "id": "9ea958ea",
   "metadata": {},
   "outputs": [],
   "source": [
    "import nltk\n",
    "\n",
    "def add_to_source(source, item):\n",
    "    return source + item + \" \"\n",
    "\n",
    "def process_content(sample_text):\n",
    "    try:\n",
    "        \n",
    "        words = nltk.word_tokenize(sample_text)\n",
    "        tagged = nltk.pos_tag(words)\n",
    "        \n",
    "        chunkGram = ('''\n",
    "            NP: {(<DT>?<JJ>*(<NN>|<NN.>)+<IN>?)+} #Noun Phrase\n",
    "            VP: {(<MD>*(<VB>|<VB.>)+(<RB>|<RB.>)*)+} #Verb Phrase\n",
    "            ''')\n",
    "                \n",
    "        chunkParser = nltk.RegexpParser(chunkGram)\n",
    "        chunked = chunkParser.parse(tagged)\n",
    "        \n",
    "        word_list = chunked.pos()\n",
    "        \n",
    "        np_string = \"<span style='font-weight: bold; color: blue;'>\"\n",
    "        vp_string = \"<span style='font-weight: bold; color: red;'>\"\n",
    "        newString = \"\"\n",
    "        \n",
    "        for i in range(len(word_list)):\n",
    "            item = word_list[i]\n",
    "            if item[1] == 'NP':\n",
    "                np_string = add_to_source(np_string, item[0][0])\n",
    "                if word_list[i+1][1] != 'NP':\n",
    "                    np_string = np_string.strip() + '</span>'\n",
    "                    newString = newString + np_string + \" \"\n",
    "                    np_string = \"<span style='font-weight: bold; color: blue;'>\"\n",
    "            elif item[1] == 'VP':\n",
    "                vp_string = add_to_source(vp_string, item[0][0])\n",
    "                if word_list[i+1][1] != 'VP':\n",
    "                    vp_string = vp_string.strip() + '</span>'\n",
    "                    newString = newString + vp_string + \" \"\n",
    "                    vp_string = \"<span style='font-weight: bold; color: red;'>\"\n",
    "            else:\n",
    "                newString = newString + item[0][0] + \" \"\n",
    "\n",
    "        return newString\n",
    "        \n",
    "    except Exception as e:\n",
    "        print(str(e))"
   ]
  },
  {
   "cell_type": "code",
   "execution_count": null,
   "id": "50cf360a",
   "metadata": {},
   "outputs": [],
   "source": []
  }
 ],
 "metadata": {
  "kernelspec": {
   "display_name": "Python 3 (ipykernel)",
   "language": "python",
   "name": "python3"
  },
  "language_info": {
   "codemirror_mode": {
    "name": "ipython",
    "version": 3
   },
   "file_extension": ".py",
   "mimetype": "text/x-python",
   "name": "python",
   "nbconvert_exporter": "python",
   "pygments_lexer": "ipython3",
   "version": "3.8.2"
  }
 },
 "nbformat": 4,
 "nbformat_minor": 5
}
